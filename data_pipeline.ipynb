{
 "cells": [
  {
   "cell_type": "code",
   "execution_count": null,
   "metadata": {},
   "outputs": [],
   "source": [
    "def directory(path):\n",
    "    # Use list comprehension for efficiency\n",
    "    image_path=[]\n",
    "    for file in os.listdir(path):\n",
    "        if file.endswith('.jpg'):\n",
    "            img_path=os.path.join(path,file)\n",
    "            image_path.append(img_path)\n",
    "            image_path=image_path[:2000]\n",
    "    \n",
    "    print(f\"Training samples: {len(image_path)}\")\n",
    "    #print(f\"Test samples: {len(test_pathlist)}\")\n",
    "    \n",
    "    return  image_path\n"
   ]
  },
  {
   "cell_type": "code",
   "execution_count": null,
   "metadata": {},
   "outputs": [],
   "source": [
    "def preprocess_hr_to_lr(hr_path):\n",
    "    # Read HR image\n",
    "    img = tf.io.read_file(hr_path)\n",
    "    img = tf.image.decode_jpeg(img, channels=3)\n",
    "    img = tf.cast(img,tf.float32)\n",
    "    img = (img/127.5)-1\n",
    "    \n",
    "\n",
    "    # for low resolution images\n",
    "    lr = tf.image.resize(img, [64, 64], method=tf.image.ResizeMethod.BILINEAR)\n",
    "    noise = tf.random.normal(tf.shape(lr), mean=0.0,stddev=0.05)\n",
    "    lr_img = tf.clip_by_value(lr+noise,-1,1)\n",
    "\n",
    "    # for high resolution images\n",
    "    hr_img = tf.image.resize(img, [256, 256], method=tf.image.ResizeMethod.BILINEAR)   \n",
    "    return  hr_img,lr_img "
   ]
  },
  {
   "cell_type": "code",
   "execution_count": null,
   "metadata": {},
   "outputs": [],
   "source": [
    "def create_pipeline(hr_paths, batch_size=4, train_split=0.7, val_split=0.15, test_split=0.15):\n",
    "    \n",
    "\n",
    "    dataset = tf.data.Dataset.from_tensor_slices(hr_paths)\n",
    "    \n",
    "    \n",
    "    dataset = dataset.shuffle(buffer_size=len(hr_paths), seed=42)\n",
    "    \n",
    "    # Calculate sizes for each split\n",
    "    total_size = len(hr_paths)\n",
    "    train_size = int(total_size * train_split)\n",
    "    val_size = int(total_size * val_split)\n",
    "    \n",
    "    # Split the dataset\n",
    "    train_dataset = dataset.take(train_size)\n",
    "    val_dataset = dataset.skip(train_size).take(val_size)\n",
    "    test_dataset = dataset.skip(train_size + val_size)\n",
    "    \n",
    "    \n",
    "    def process_split(split):\n",
    "        return (split\n",
    "                .map(preprocess_hr_to_lr, num_parallel_calls=tf.data.AUTOTUNE)\n",
    "                .batch(batch_size)\n",
    "                .prefetch(tf.data.AUTOTUNE))\n",
    "    \n",
    "    \n",
    "    train_dataset = process_split(train_dataset)\n",
    "    val_dataset = process_split(val_dataset)\n",
    "    test_dataset = process_split(test_dataset)\n",
    "    \n",
    "    return train_dataset, val_dataset, test_dataset\n"
   ]
  },
  {
   "cell_type": "code",
   "execution_count": null,
   "metadata": {},
   "outputs": [],
   "source": [
    "train_dataset,val_dataset, test_dataset = create_pipeline(hr_list)\n",
    "    "
   ]
  },
  {
   "cell_type": "code",
   "execution_count": null,
   "metadata": {},
   "outputs": [],
   "source": []
  }
 ],
 "metadata": {
  "language_info": {
   "name": "python"
  }
 },
 "nbformat": 4,
 "nbformat_minor": 2
}
