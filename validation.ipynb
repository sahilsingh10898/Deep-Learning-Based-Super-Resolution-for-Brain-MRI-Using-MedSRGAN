{
 "cells": [
  {
   "cell_type": "code",
   "execution_count": null,
   "metadata": {},
   "outputs": [],
   "source": [
    "def validation(valid_dataset, gen_model, dis, losses):\n",
    "    \n",
    "    gen_loss = 0\n",
    "    dis_loss = 0\n",
    "    total_psnr = 0\n",
    "    total_ssim = 0\n",
    "    num_batches = 0\n",
    "    total_samples = 0\n",
    "\n",
    "    for hr, lr in valid_dataset:\n",
    "           \n",
    "        batch_size = tf.shape(hr)[0]\n",
    "        gen_output = gen_model(lr, training=False)\n",
    "        generator_loss = losses(dis, lr, gen_output, hr)\n",
    "        \n",
    "        dis_real_output = dis([hr, lr], training=False)\n",
    "        dis_fake_output = dis([gen_output, lr], training=False)\n",
    "        discriminator_loss = dis_loss(dis_real_output, dis_fake_output)\n",
    "        \n",
    "        # Calculate metrics\n",
    "        psnr_value = psnr(hr, gen_output)\n",
    "        ssim_value = ssim(hr, gen_output)\n",
    "\n",
    "        # Weighted accumulation (by batch size)\n",
    "        gen_loss += generator_loss.numpy() * batch_size\n",
    "        dis_loss += discriminator_loss.numpy() * batch_size\n",
    "        total_psnr += psnr_value.numpy() * batch_size\n",
    "        total_ssim += ssim_value.numpy() * batch_size\n",
    "        total_samples += batch_size\n",
    "        num_batches += 1\n",
    "    \n",
    "    # Calculate proper weighted averages\n",
    "    avg_gen_loss = gen_loss / max(1, total_samples)\n",
    "    avg_dis_loss = dis_loss / max(1, total_samples)\n",
    "    avg_psnr = total_psnr / max(1, total_samples)\n",
    "    avg_ssim = total_ssim / max(1, total_samples)\n",
    "\n",
    "    return avg_gen_loss, avg_dis_loss, avg_psnr, avg_ssim\n"
   ]
  },
  {
   "cell_type": "code",
   "execution_count": null,
   "metadata": {},
   "outputs": [],
   "source": []
  }
 ],
 "metadata": {
  "kernelspec": {
   "display_name": "Python 3",
   "language": "python",
   "name": "python3"
  },
  "language_info": {
   "name": "python",
   "version": "3.13.1"
  }
 },
 "nbformat": 4,
 "nbformat_minor": 2
}
