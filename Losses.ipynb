{
 "cells": [
  {
   "cell_type": "code",
   "execution_count": null,
   "metadata": {},
   "outputs": [],
   "source": [
    "class CombinedLoss:\n",
    "    def __init__(self, discriminator, lambda_l1=1.0, lambda_content=1.0, lambda_adv=1e-3, lambda_adv_feat=1e-3):\n",
    "        \n",
    "        self.lambda_l1 = lambda_l1\n",
    "        self.lambda_content = lambda_content\n",
    "        self.lambda_adv = lambda_adv\n",
    "        self.lambda_adv_feat = lambda_adv_feat\n",
    "        \n",
    "        # Initialize VGG19 \n",
    "        self.layer_names = ['block1_conv2','block2_conv2', 'block3_conv3','block4_conv3','block5_conv3']\n",
    "        self.layer_weights = [1.0, 1/2, 1/4, 1/8, 1/16]\n",
    "        \n",
    "        \n",
    "        vgg = VGG19(include_top=False, weights='imagenet')\n",
    "        vgg.trainable = False\n",
    "        \n",
    "        \n",
    "        self.feature_extractors = [Model(inputs=vgg.input, outputs=vgg.get_layer(name).output) for name in self.layer_names]\n",
    "\n",
    "        if discriminator is not None:\n",
    "            layer_name = ['conv_0', 'conv_1', 'conv_3', 'conv_4']\n",
    "            outputs = [discriminator.get_layer(name).output for name in layer_name]\n",
    "            self.feature_model = Model(inputs=discriminator.inputs, outputs=outputs)  # Fixed: removed list brackets\n",
    "            \n",
    "    def l1_loss(self, hr, sr):\n",
    "        if hr.shape != sr.shape:\n",
    "            raise ValueError(f\"Shape mismatch: hr {hr.shape} vs sr {sr.shape}\")\n",
    "        return tf.reduce_mean(tf.abs(hr - sr))\n",
    "    \n",
    "    def content_loss(self, hr, sr):\n",
    "        \n",
    "        \n",
    "        hr_norm = (hr+1.0)/2.0\n",
    "        sr_norm = (sr+1.0)/2.0\n",
    "        \n",
    "        hr_prep = tf.keras.applications.vgg16.preprocess_input(hr_norm * 255.0)\n",
    "        sr_prep = tf.keras.applications.vgg16.preprocess_input(sr_norm * 255.0)\n",
    "        \n",
    "        loss = 0\n",
    "        for model, weight in zip(self.feature_extractors, self.layer_weights):\n",
    "            hr_features = model(hr_prep)\n",
    "            sr_features = model(sr_prep)\n",
    "            loss += weight * tf.reduce_mean(tf.square(hr_features - sr_features))\n",
    "        return loss\n",
    "\n",
    "    def adversarial_loss(self, discriminator, lr, sr, hr):\n",
    "        d_fake = discriminator([sr, lr])\n",
    "        return -tf.reduce_mean(tf.math.log(d_fake + 1e-10))\n",
    "\n",
    "    def adversarial_feature_loss(self, lr, sr, hr):\n",
    "        loss = 0\n",
    "        real_features = self.feature_model([hr, lr])\n",
    "        fake_features = self.feature_model([sr, lr])\n",
    "\n",
    "        for real_feature, fake_feature in zip(real_features, fake_features):  \n",
    "            loss += tf.reduce_mean(tf.square(real_feature - fake_feature))  \n",
    "        return loss\n",
    "\n",
    "    def __call__(self, discriminator, lr, sr, hr):\n",
    "        l1_loss = self.lambda_l1 * self.l1_loss(hr, sr)\n",
    "        content_loss = self.lambda_content * self.content_loss(hr, sr)\n",
    "        adversarial = self.lambda_adv * self.adversarial_loss(discriminator, lr, sr, hr)  \n",
    "        adv_feature_loss = self.lambda_adv_feat * self.adversarial_feature_loss(lr, sr, hr)\n",
    "\n",
    "        total = l1_loss + content_loss + adversarial + adv_feature_loss\n",
    "\n",
    "        return total\n"
   ]
  },
  {
   "cell_type": "code",
   "execution_count": null,
   "metadata": {},
   "outputs": [],
   "source": [
    "losses = CombinedLoss(dis)"
   ]
  },
  {
   "cell_type": "code",
   "execution_count": null,
   "metadata": {},
   "outputs": [],
   "source": [
    "# Binary loss function for the discriminator\n",
    "def discriminator_loss(real_output,fake_output):\n",
    "    bce=BinaryCrossentropy(from_logits=False)\n",
    "\n",
    "    real_loss=bce(tf.ones_like(real_output),real_output)\n",
    "    fake_loss=bce(tf.zeros_like(fake_output),fake_output)\n",
    "\n",
    "    return real_loss+fake_loss"
   ]
  },
  {
   "cell_type": "code",
   "execution_count": null,
   "metadata": {},
   "outputs": [],
   "source": []
  }
 ],
 "metadata": {
  "language_info": {
   "name": "python"
  }
 },
 "nbformat": 4,
 "nbformat_minor": 2
}
