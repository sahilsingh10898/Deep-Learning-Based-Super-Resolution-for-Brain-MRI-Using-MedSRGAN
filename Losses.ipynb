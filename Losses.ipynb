{
 "cells": [
  {
   "cell_type": "code",
   "execution_count": null,
   "metadata": {},
   "outputs": [],
   "source": [
    "class CombinedLoss:\n",
    "    def __init__(self, lambda_l1=1.0, lambda_content=1.0, lambda_adv=1e-3, lambda_adv_feat=1e-3):\n",
    "        self.lambda_l1 = lambda_l1\n",
    "        self.lambda_content = lambda_content\n",
    "        self.lambda_adv = lambda_adv\n",
    "        self.lambda_adv_feat = lambda_adv_feat\n",
    "        \n",
    "        # Load VGG16 model for perceptual loss\n",
    "        vgg = VGG16(include_top=False, weights='imagenet')\n",
    "        self.vgg_layers = [\n",
    "            Model(inputs=vgg.input, outputs=vgg.get_layer('block1_conv2').output),\n",
    "            Model(inputs=vgg.input, outputs=vgg.get_layer('block2_conv2').output),\n",
    "            Model(inputs=vgg.input, outputs=vgg.get_layer('block3_conv3').output),\n",
    "            Model(inputs=vgg.input, outputs=vgg.get_layer('block4_conv3').output),\n",
    "            Model(inputs=vgg.input, outputs=vgg.get_layer('block5_conv3').output)\n",
    "        ]\n",
    "        self.vgg_weights = [1, 1/2, 1/4, 1/8, 1/16]  # More weight on shallow layers\n",
    "\n",
    "    def l1_loss(self, hr, sr):\n",
    "        return tf.reduce_mean(tf.abs(hr - sr))\n",
    "    \n",
    "    def content_loss(self, hr, sr):\n",
    "        loss = 0\n",
    "        for model, weight in zip(self.vgg_layers, self.vgg_weights):\n",
    "            hr_features = model(hr)\n",
    "            sr_features = model(sr)\n",
    "            loss += weight * tf.reduce_mean(tf.square(hr_features - sr_features))\n",
    "        return loss\n",
    "    \n",
    "    def adversarial_loss(self, discriminator, lr, sr, hr):\n",
    "        d_real = discriminator([hr, lr])\n",
    "        d_fake = discriminator([sr, lr])\n",
    "        return -tf.reduce_mean(tf.math.log(1 - d_real) - tf.math.log(d_fake))\n",
    "    \n",
    "    def adversarial_feature_loss(self, discriminator, lr, sr, hr):\n",
    "        weights = [1/2, 1/4, 1/8, 1/16, 1/16]\n",
    "        loss = 0\n",
    "        feature_extractor = [Model(inputs=discriminator.inputs, outputs=discriminator.get_layer(f'conv_{i}').output) for i in range(5)]\n",
    "        \n",
    "        real_features = [fe([hr,lr]) for fe in feature_extractor]\n",
    "        fake_features = [fe([sr,lr]) for fe in feature_extractor]\n",
    "\n",
    "        # calculate the feature loss\n",
    "        \n",
    "        for i,(real,fake) in enumerate(zip(real_features,fake_features)):\n",
    "            loss += weights[i] * tf.reduce_mean(tf.square(real-fake))\n",
    "        \n",
    "        return loss\n",
    "    \n",
    "    def total_loss(self, discriminator, lr, sr, hr):\n",
    "        return (self.lambda_l1 * self.l1_loss(hr, sr) +\n",
    "                self.lambda_content * self.content_loss(hr, sr) +\n",
    "                self.lambda_adv * self.adversarial_loss(discriminator, lr, sr, hr) +\n",
    "                self.lambda_adv_feat * self.adversarial_feature_loss(discriminator, lr, sr, hr))\n"
   ]
  },
  {
   "cell_type": "code",
   "execution_count": null,
   "metadata": {},
   "outputs": [],
   "source": [
    "# Binary loss function for the discriminator\n",
    "def discriminator_loss(real_output,fake_output):\n",
    "    bce=BinaryCrossentropy(from_logits=False)\n",
    "\n",
    "    real_loss=bce(tf.ones_like(real_output),real_output)\n",
    "    fake_loss=bce(tf.zeros_like(fake_output),fake_output)\n",
    "\n",
    "    return real_loss+fake_loss"
   ]
  },
  {
   "cell_type": "code",
   "execution_count": null,
   "metadata": {},
   "outputs": [],
   "source": []
  }
 ],
 "metadata": {
  "language_info": {
   "name": "python"
  }
 },
 "nbformat": 4,
 "nbformat_minor": 2
}
